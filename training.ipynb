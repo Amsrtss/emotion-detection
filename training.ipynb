{
 "cells": [
  {
   "cell_type": "code",
   "execution_count": 5,
   "id": "e1239126",
   "metadata": {},
   "outputs": [],
   "source": [
    "import os\n",
    "import numpy as np\n",
    "import matplotlib.pyplot as plt\n",
    "import tensorflow as tf\n",
    "from tensorflow.keras.preprocessing.image import ImageDataGenerator\n",
    "from tensorflow.keras.models import Sequential\n",
    "from tensorflow.keras.layers import Input, Conv2D, MaxPooling2D, Flatten, Dense, Dropout\n",
    "from tensorflow.keras.callbacks import EarlyStopping, ModelCheckpoint\n",
    "from tensorflow.keras.optimizers import Adam"
   ]
  },
  {
   "cell_type": "code",
   "execution_count": 6,
   "id": "320735a9",
   "metadata": {},
   "outputs": [],
   "source": [
    "# 1. Parameter dasar\n",
    "IMG_HEIGHT = 48\n",
    "IMG_WIDTH = 48\n",
    "BATCH_SIZE = 32\n",
    "TRAIN_PATH = \"dataset\\Training\\Training\" \n",
    "TEST_PATH = \"dataset\\Testing\\Testing\" "
   ]
  },
  {
   "cell_type": "code",
   "execution_count": 7,
   "id": "90b26513",
   "metadata": {},
   "outputs": [
    {
     "name": "stdout",
     "output_type": "stream",
     "text": [
      "Found 22619 images belonging to 6 classes.\n",
      "Found 5654 images belonging to 6 classes.\n",
      "Found 7067 images belonging to 6 classes.\n"
     ]
    }
   ],
   "source": [
    "# 2. Preprocessing & Augmentasi\n",
    "train_datagen = ImageDataGenerator(\n",
    "    rescale=1./255,\n",
    "    horizontal_flip=True,\n",
    "    zoom_range=0.2,\n",
    "    validation_split=0.2\n",
    ")\n",
    "\n",
    "test_datagen = ImageDataGenerator(rescale=1./255)\n",
    "\n",
    "train_generator = train_datagen.flow_from_directory(\n",
    "    TRAIN_PATH,\n",
    "    target_size=(IMG_HEIGHT, IMG_WIDTH),\n",
    "    batch_size=BATCH_SIZE,\n",
    "    class_mode='categorical',\n",
    "    subset='training',\n",
    "    color_mode='grayscale'\n",
    ")\n",
    "\n",
    "validation_generator = train_datagen.flow_from_directory(\n",
    "    TRAIN_PATH,\n",
    "    target_size=(IMG_HEIGHT, IMG_WIDTH),\n",
    "    batch_size=BATCH_SIZE,\n",
    "    class_mode='categorical',\n",
    "    subset='validation',\n",
    "    color_mode='grayscale'\n",
    ")\n",
    "\n",
    "test_generator = test_datagen.flow_from_directory(\n",
    "    TEST_PATH,\n",
    "    target_size=(IMG_HEIGHT, IMG_WIDTH),\n",
    "    batch_size=BATCH_SIZE,\n",
    "    class_mode='categorical',\n",
    "    shuffle=False,\n",
    "    color_mode='grayscale'\n",
    ")\n"
   ]
  },
  {
   "cell_type": "code",
   "execution_count": 8,
   "id": "79197ade",
   "metadata": {},
   "outputs": [],
   "source": [
    "# 3. Bangun CNN Model\n",
    "model = Sequential()\n",
    "model.add(Input(shape=(IMG_HEIGHT, IMG_WIDTH, 1)))\n",
    "model.add(Conv2D(32, kernel_size=(3,3), activation='relu'))\n",
    "model.add(Conv2D(64, kernel_size=(3,3), activation='relu'))\n",
    "model.add(MaxPooling2D(pool_size=(2,2)))\n",
    "model.add(Dropout(0.25))\n",
    "model.add(Conv2D(128, kernel_size=(3,3), activation='relu'))\n",
    "model.add(MaxPooling2D(pool_size=(2,2)))\n",
    "model.add(Conv2D(128, kernel_size=(3,3), activation='relu'))\n",
    "model.add(MaxPooling2D(pool_size=(2,2)))\n",
    "model.add(Dropout(0.25))\n",
    "model.add(Flatten())\n",
    "model.add(Dense(1024, activation='relu'))\n",
    "model.add(Dropout(0.5))\n",
    "model.add(Dense(train_generator.num_classes, activation='softmax'))"
   ]
  },
  {
   "cell_type": "code",
   "execution_count": 9,
   "id": "bc55a5b4",
   "metadata": {},
   "outputs": [],
   "source": [
    "# 4. Compile Model\n",
    "model.compile(\n",
    "    optimizer=Adam(learning_rate=0.0001),\n",
    "    loss='categorical_crossentropy',\n",
    "    metrics=['accuracy']\n",
    ")"
   ]
  },
  {
   "cell_type": "code",
   "execution_count": 10,
   "id": "1b193292",
   "metadata": {},
   "outputs": [],
   "source": [
    "# 5. Callback\n",
    "checkpoint = ModelCheckpoint('cnn_model_best.weights.h5', save_best_only=True, save_weights_only=True)\n",
    "early_stop = EarlyStopping(monitor='val_loss', patience=5, restore_best_weights=True)"
   ]
  },
  {
   "cell_type": "code",
   "execution_count": null,
   "id": "8c0efd20",
   "metadata": {},
   "outputs": [],
   "source": []
  },
  {
   "cell_type": "code",
   "execution_count": 12,
   "id": "96855014",
   "metadata": {},
   "outputs": [
    {
     "name": "stdout",
     "output_type": "stream",
     "text": [
      "Epoch 1/100\n",
      "\u001b[1m707/707\u001b[0m \u001b[32m━━━━━━━━━━━━━━━━━━━━\u001b[0m\u001b[37m\u001b[0m \u001b[1m83s\u001b[0m 118ms/step - accuracy: 0.4764 - loss: 1.3397 - val_accuracy: 0.4972 - val_loss: 1.3026\n",
      "Epoch 2/100\n",
      "\u001b[1m707/707\u001b[0m \u001b[32m━━━━━━━━━━━━━━━━━━━━\u001b[0m\u001b[37m\u001b[0m \u001b[1m91s\u001b[0m 128ms/step - accuracy: 0.4876 - loss: 1.3201 - val_accuracy: 0.5131 - val_loss: 1.2660\n",
      "Epoch 3/100\n",
      "\u001b[1m707/707\u001b[0m \u001b[32m━━━━━━━━━━━━━━━━━━━━\u001b[0m\u001b[37m\u001b[0m \u001b[1m83s\u001b[0m 118ms/step - accuracy: 0.5005 - loss: 1.2886 - val_accuracy: 0.5265 - val_loss: 1.2462\n",
      "Epoch 4/100\n",
      "\u001b[1m707/707\u001b[0m \u001b[32m━━━━━━━━━━━━━━━━━━━━\u001b[0m\u001b[37m\u001b[0m \u001b[1m112s\u001b[0m 159ms/step - accuracy: 0.5131 - loss: 1.2473 - val_accuracy: 0.5318 - val_loss: 1.2261\n",
      "Epoch 5/100\n",
      "\u001b[1m707/707\u001b[0m \u001b[32m━━━━━━━━━━━━━━━━━━━━\u001b[0m\u001b[37m\u001b[0m \u001b[1m140s\u001b[0m 156ms/step - accuracy: 0.5189 - loss: 1.2387 - val_accuracy: 0.5396 - val_loss: 1.1957\n",
      "Epoch 6/100\n",
      "\u001b[1m707/707\u001b[0m \u001b[32m━━━━━━━━━━━━━━━━━━━━\u001b[0m\u001b[37m\u001b[0m \u001b[1m86s\u001b[0m 122ms/step - accuracy: 0.5315 - loss: 1.2082 - val_accuracy: 0.5462 - val_loss: 1.1935\n",
      "Epoch 7/100\n",
      "\u001b[1m707/707\u001b[0m \u001b[32m━━━━━━━━━━━━━━━━━━━━\u001b[0m\u001b[37m\u001b[0m \u001b[1m82s\u001b[0m 115ms/step - accuracy: 0.5418 - loss: 1.1845 - val_accuracy: 0.5417 - val_loss: 1.1861\n",
      "Epoch 8/100\n",
      "\u001b[1m707/707\u001b[0m \u001b[32m━━━━━━━━━━━━━━━━━━━━\u001b[0m\u001b[37m\u001b[0m \u001b[1m85s\u001b[0m 121ms/step - accuracy: 0.5447 - loss: 1.1679 - val_accuracy: 0.5552 - val_loss: 1.1697\n",
      "Epoch 9/100\n",
      "\u001b[1m707/707\u001b[0m \u001b[32m━━━━━━━━━━━━━━━━━━━━\u001b[0m\u001b[37m\u001b[0m \u001b[1m83s\u001b[0m 118ms/step - accuracy: 0.5563 - loss: 1.1545 - val_accuracy: 0.5692 - val_loss: 1.1424\n",
      "Epoch 10/100\n",
      "\u001b[1m707/707\u001b[0m \u001b[32m━━━━━━━━━━━━━━━━━━━━\u001b[0m\u001b[37m\u001b[0m \u001b[1m147s\u001b[0m 125ms/step - accuracy: 0.5558 - loss: 1.1477 - val_accuracy: 0.5746 - val_loss: 1.1303\n",
      "Epoch 11/100\n",
      "\u001b[1m707/707\u001b[0m \u001b[32m━━━━━━━━━━━━━━━━━━━━\u001b[0m\u001b[37m\u001b[0m \u001b[1m84s\u001b[0m 119ms/step - accuracy: 0.5597 - loss: 1.1368 - val_accuracy: 0.5713 - val_loss: 1.1241\n",
      "Epoch 12/100\n",
      "\u001b[1m707/707\u001b[0m \u001b[32m━━━━━━━━━━━━━━━━━━━━\u001b[0m\u001b[37m\u001b[0m \u001b[1m87s\u001b[0m 124ms/step - accuracy: 0.5714 - loss: 1.1282 - val_accuracy: 0.5736 - val_loss: 1.1241\n",
      "Epoch 13/100\n",
      "\u001b[1m707/707\u001b[0m \u001b[32m━━━━━━━━━━━━━━━━━━━━\u001b[0m\u001b[37m\u001b[0m \u001b[1m86s\u001b[0m 122ms/step - accuracy: 0.5834 - loss: 1.0895 - val_accuracy: 0.5815 - val_loss: 1.1178\n",
      "Epoch 14/100\n",
      "\u001b[1m707/707\u001b[0m \u001b[32m━━━━━━━━━━━━━━━━━━━━\u001b[0m\u001b[37m\u001b[0m \u001b[1m157s\u001b[0m 143ms/step - accuracy: 0.5773 - loss: 1.1045 - val_accuracy: 0.5831 - val_loss: 1.1023\n",
      "Epoch 15/100\n",
      "\u001b[1m707/707\u001b[0m \u001b[32m━━━━━━━━━━━━━━━━━━━━\u001b[0m\u001b[37m\u001b[0m \u001b[1m85s\u001b[0m 120ms/step - accuracy: 0.5852 - loss: 1.0815 - val_accuracy: 0.5906 - val_loss: 1.0906\n",
      "Epoch 16/100\n",
      "\u001b[1m707/707\u001b[0m \u001b[32m━━━━━━━━━━━━━━━━━━━━\u001b[0m\u001b[37m\u001b[0m \u001b[1m93s\u001b[0m 131ms/step - accuracy: 0.5844 - loss: 1.0744 - val_accuracy: 0.5888 - val_loss: 1.0892\n",
      "Epoch 17/100\n",
      "\u001b[1m707/707\u001b[0m \u001b[32m━━━━━━━━━━━━━━━━━━━━\u001b[0m\u001b[37m\u001b[0m \u001b[1m88s\u001b[0m 125ms/step - accuracy: 0.5903 - loss: 1.0701 - val_accuracy: 0.5815 - val_loss: 1.0926\n",
      "Epoch 18/100\n",
      "\u001b[1m707/707\u001b[0m \u001b[32m━━━━━━━━━━━━━━━━━━━━\u001b[0m\u001b[37m\u001b[0m \u001b[1m80s\u001b[0m 113ms/step - accuracy: 0.5948 - loss: 1.0507 - val_accuracy: 0.5907 - val_loss: 1.0876\n",
      "Epoch 19/100\n",
      "\u001b[1m707/707\u001b[0m \u001b[32m━━━━━━━━━━━━━━━━━━━━\u001b[0m\u001b[37m\u001b[0m \u001b[1m84s\u001b[0m 118ms/step - accuracy: 0.6023 - loss: 1.0402 - val_accuracy: 0.5934 - val_loss: 1.0836\n",
      "Epoch 20/100\n",
      "\u001b[1m707/707\u001b[0m \u001b[32m━━━━━━━━━━━━━━━━━━━━\u001b[0m\u001b[37m\u001b[0m \u001b[1m83s\u001b[0m 117ms/step - accuracy: 0.6045 - loss: 1.0365 - val_accuracy: 0.6006 - val_loss: 1.0672\n",
      "Epoch 21/100\n",
      "\u001b[1m707/707\u001b[0m \u001b[32m━━━━━━━━━━━━━━━━━━━━\u001b[0m\u001b[37m\u001b[0m \u001b[1m83s\u001b[0m 117ms/step - accuracy: 0.6027 - loss: 1.0352 - val_accuracy: 0.5953 - val_loss: 1.0792\n",
      "Epoch 22/100\n",
      "\u001b[1m707/707\u001b[0m \u001b[32m━━━━━━━━━━━━━━━━━━━━\u001b[0m\u001b[37m\u001b[0m \u001b[1m83s\u001b[0m 117ms/step - accuracy: 0.6098 - loss: 1.0225 - val_accuracy: 0.5978 - val_loss: 1.0656\n",
      "Epoch 23/100\n",
      "\u001b[1m707/707\u001b[0m \u001b[32m━━━━━━━━━━━━━━━━━━━━\u001b[0m\u001b[37m\u001b[0m \u001b[1m92s\u001b[0m 130ms/step - accuracy: 0.6104 - loss: 1.0114 - val_accuracy: 0.5996 - val_loss: 1.0646\n",
      "Epoch 24/100\n",
      "\u001b[1m707/707\u001b[0m \u001b[32m━━━━━━━━━━━━━━━━━━━━\u001b[0m\u001b[37m\u001b[0m \u001b[1m91s\u001b[0m 128ms/step - accuracy: 0.6184 - loss: 1.0007 - val_accuracy: 0.5990 - val_loss: 1.0550\n",
      "Epoch 25/100\n",
      "\u001b[1m707/707\u001b[0m \u001b[32m━━━━━━━━━━━━━━━━━━━━\u001b[0m\u001b[37m\u001b[0m \u001b[1m95s\u001b[0m 135ms/step - accuracy: 0.6217 - loss: 0.9950 - val_accuracy: 0.6098 - val_loss: 1.0505\n",
      "Epoch 26/100\n",
      "\u001b[1m707/707\u001b[0m \u001b[32m━━━━━━━━━━━━━━━━━━━━\u001b[0m\u001b[37m\u001b[0m \u001b[1m107s\u001b[0m 151ms/step - accuracy: 0.6246 - loss: 0.9908 - val_accuracy: 0.6015 - val_loss: 1.0506\n",
      "Epoch 27/100\n",
      "\u001b[1m707/707\u001b[0m \u001b[32m━━━━━━━━━━━━━━━━━━━━\u001b[0m\u001b[37m\u001b[0m \u001b[1m107s\u001b[0m 151ms/step - accuracy: 0.6217 - loss: 0.9846 - val_accuracy: 0.6005 - val_loss: 1.0501\n",
      "Epoch 28/100\n",
      "\u001b[1m707/707\u001b[0m \u001b[32m━━━━━━━━━━━━━━━━━━━━\u001b[0m\u001b[37m\u001b[0m \u001b[1m89s\u001b[0m 126ms/step - accuracy: 0.6389 - loss: 0.9596 - val_accuracy: 0.6054 - val_loss: 1.0418\n",
      "Epoch 29/100\n",
      "\u001b[1m707/707\u001b[0m \u001b[32m━━━━━━━━━━━━━━━━━━━━\u001b[0m\u001b[37m\u001b[0m \u001b[1m94s\u001b[0m 133ms/step - accuracy: 0.6333 - loss: 0.9705 - val_accuracy: 0.6127 - val_loss: 1.0366\n",
      "Epoch 30/100\n",
      "\u001b[1m707/707\u001b[0m \u001b[32m━━━━━━━━━━━━━━━━━━━━\u001b[0m\u001b[37m\u001b[0m \u001b[1m102s\u001b[0m 144ms/step - accuracy: 0.6359 - loss: 0.9618 - val_accuracy: 0.6116 - val_loss: 1.0360\n",
      "Epoch 31/100\n",
      "\u001b[1m707/707\u001b[0m \u001b[32m━━━━━━━━━━━━━━━━━━━━\u001b[0m\u001b[37m\u001b[0m \u001b[1m95s\u001b[0m 135ms/step - accuracy: 0.6481 - loss: 0.9448 - val_accuracy: 0.6114 - val_loss: 1.0376\n",
      "Epoch 32/100\n",
      "\u001b[1m707/707\u001b[0m \u001b[32m━━━━━━━━━━━━━━━━━━━━\u001b[0m\u001b[37m\u001b[0m \u001b[1m111s\u001b[0m 156ms/step - accuracy: 0.6471 - loss: 0.9373 - val_accuracy: 0.6171 - val_loss: 1.0264\n",
      "Epoch 33/100\n",
      "\u001b[1m707/707\u001b[0m \u001b[32m━━━━━━━━━━━━━━━━━━━━\u001b[0m\u001b[37m\u001b[0m \u001b[1m86s\u001b[0m 122ms/step - accuracy: 0.6486 - loss: 0.9290 - val_accuracy: 0.6174 - val_loss: 1.0229\n",
      "Epoch 34/100\n",
      "\u001b[1m707/707\u001b[0m \u001b[32m━━━━━━━━━━━━━━━━━━━━\u001b[0m\u001b[37m\u001b[0m \u001b[1m84s\u001b[0m 119ms/step - accuracy: 0.6478 - loss: 0.9318 - val_accuracy: 0.6180 - val_loss: 1.0330\n",
      "Epoch 35/100\n",
      "\u001b[1m707/707\u001b[0m \u001b[32m━━━━━━━━━━━━━━━━━━━━\u001b[0m\u001b[37m\u001b[0m \u001b[1m91s\u001b[0m 129ms/step - accuracy: 0.6578 - loss: 0.9082 - val_accuracy: 0.6120 - val_loss: 1.0343\n",
      "Epoch 36/100\n",
      "\u001b[1m707/707\u001b[0m \u001b[32m━━━━━━━━━━━━━━━━━━━━\u001b[0m\u001b[37m\u001b[0m \u001b[1m107s\u001b[0m 151ms/step - accuracy: 0.6540 - loss: 0.9187 - val_accuracy: 0.6158 - val_loss: 1.0287\n",
      "Epoch 37/100\n",
      "\u001b[1m707/707\u001b[0m \u001b[32m━━━━━━━━━━━━━━━━━━━━\u001b[0m\u001b[37m\u001b[0m \u001b[1m112s\u001b[0m 159ms/step - accuracy: 0.6571 - loss: 0.9111 - val_accuracy: 0.6166 - val_loss: 1.0262\n",
      "Epoch 38/100\n",
      "\u001b[1m707/707\u001b[0m \u001b[32m━━━━━━━━━━━━━━━━━━━━\u001b[0m\u001b[37m\u001b[0m \u001b[1m81s\u001b[0m 115ms/step - accuracy: 0.6735 - loss: 0.8751 - val_accuracy: 0.6162 - val_loss: 1.0197\n",
      "Epoch 39/100\n",
      "\u001b[1m707/707\u001b[0m \u001b[32m━━━━━━━━━━━━━━━━━━━━\u001b[0m\u001b[37m\u001b[0m \u001b[1m103s\u001b[0m 146ms/step - accuracy: 0.6616 - loss: 0.8961 - val_accuracy: 0.6174 - val_loss: 1.0296\n",
      "Epoch 40/100\n",
      "\u001b[1m707/707\u001b[0m \u001b[32m━━━━━━━━━━━━━━━━━━━━\u001b[0m\u001b[37m\u001b[0m \u001b[1m80s\u001b[0m 112ms/step - accuracy: 0.6625 - loss: 0.8886 - val_accuracy: 0.6238 - val_loss: 1.0153\n",
      "Epoch 41/100\n",
      "\u001b[1m707/707\u001b[0m \u001b[32m━━━━━━━━━━━━━━━━━━━━\u001b[0m\u001b[37m\u001b[0m \u001b[1m97s\u001b[0m 138ms/step - accuracy: 0.6663 - loss: 0.8702 - val_accuracy: 0.6215 - val_loss: 1.0185\n",
      "Epoch 42/100\n",
      "\u001b[1m707/707\u001b[0m \u001b[32m━━━━━━━━━━━━━━━━━━━━\u001b[0m\u001b[37m\u001b[0m \u001b[1m122s\u001b[0m 110ms/step - accuracy: 0.6665 - loss: 0.8786 - val_accuracy: 0.6240 - val_loss: 1.0193\n",
      "Epoch 43/100\n",
      "\u001b[1m707/707\u001b[0m \u001b[32m━━━━━━━━━━━━━━━━━━━━\u001b[0m\u001b[37m\u001b[0m \u001b[1m86s\u001b[0m 121ms/step - accuracy: 0.6772 - loss: 0.8643 - val_accuracy: 0.6180 - val_loss: 1.0162\n",
      "Epoch 44/100\n",
      "\u001b[1m707/707\u001b[0m \u001b[32m━━━━━━━━━━━━━━━━━━━━\u001b[0m\u001b[37m\u001b[0m \u001b[1m87s\u001b[0m 123ms/step - accuracy: 0.6741 - loss: 0.8738 - val_accuracy: 0.6281 - val_loss: 1.0100\n",
      "Epoch 45/100\n",
      "\u001b[1m707/707\u001b[0m \u001b[32m━━━━━━━━━━━━━━━━━━━━\u001b[0m\u001b[37m\u001b[0m \u001b[1m102s\u001b[0m 144ms/step - accuracy: 0.6768 - loss: 0.8540 - val_accuracy: 0.6238 - val_loss: 1.0142\n",
      "Epoch 46/100\n",
      "\u001b[1m707/707\u001b[0m \u001b[32m━━━━━━━━━━━━━━━━━━━━\u001b[0m\u001b[37m\u001b[0m \u001b[1m100s\u001b[0m 141ms/step - accuracy: 0.6822 - loss: 0.8428 - val_accuracy: 0.6233 - val_loss: 1.0107\n",
      "Epoch 47/100\n",
      "\u001b[1m707/707\u001b[0m \u001b[32m━━━━━━━━━━━━━━━━━━━━\u001b[0m\u001b[37m\u001b[0m \u001b[1m90s\u001b[0m 127ms/step - accuracy: 0.6898 - loss: 0.8267 - val_accuracy: 0.6291 - val_loss: 1.0038\n",
      "Epoch 48/100\n",
      "\u001b[1m707/707\u001b[0m \u001b[32m━━━━━━━━━━━━━━━━━━━━\u001b[0m\u001b[37m\u001b[0m \u001b[1m88s\u001b[0m 124ms/step - accuracy: 0.6873 - loss: 0.8339 - val_accuracy: 0.6222 - val_loss: 1.0176\n",
      "Epoch 49/100\n",
      "\u001b[1m707/707\u001b[0m \u001b[32m━━━━━━━━━━━━━━━━━━━━\u001b[0m\u001b[37m\u001b[0m \u001b[1m87s\u001b[0m 123ms/step - accuracy: 0.6859 - loss: 0.8382 - val_accuracy: 0.6245 - val_loss: 1.0109\n",
      "Epoch 50/100\n",
      "\u001b[1m707/707\u001b[0m \u001b[32m━━━━━━━━━━━━━━━━━━━━\u001b[0m\u001b[37m\u001b[0m \u001b[1m93s\u001b[0m 132ms/step - accuracy: 0.6876 - loss: 0.8269 - val_accuracy: 0.6197 - val_loss: 1.0197\n",
      "Epoch 51/100\n",
      "\u001b[1m707/707\u001b[0m \u001b[32m━━━━━━━━━━━━━━━━━━━━\u001b[0m\u001b[37m\u001b[0m \u001b[1m87s\u001b[0m 123ms/step - accuracy: 0.6924 - loss: 0.8134 - val_accuracy: 0.6258 - val_loss: 1.0067\n",
      "Epoch 52/100\n",
      "\u001b[1m707/707\u001b[0m \u001b[32m━━━━━━━━━━━━━━━━━━━━\u001b[0m\u001b[37m\u001b[0m \u001b[1m85s\u001b[0m 120ms/step - accuracy: 0.6983 - loss: 0.8046 - val_accuracy: 0.6291 - val_loss: 0.9963\n",
      "Epoch 53/100\n",
      "\u001b[1m707/707\u001b[0m \u001b[32m━━━━━━━━━━━━━━━━━━━━\u001b[0m\u001b[37m\u001b[0m \u001b[1m107s\u001b[0m 151ms/step - accuracy: 0.6942 - loss: 0.8080 - val_accuracy: 0.6261 - val_loss: 0.9988\n",
      "Epoch 54/100\n",
      "\u001b[1m707/707\u001b[0m \u001b[32m━━━━━━━━━━━━━━━━━━━━\u001b[0m\u001b[37m\u001b[0m \u001b[1m94s\u001b[0m 133ms/step - accuracy: 0.7089 - loss: 0.7920 - val_accuracy: 0.6213 - val_loss: 1.0143\n",
      "Epoch 55/100\n",
      "\u001b[1m707/707\u001b[0m \u001b[32m━━━━━━━━━━━━━━━━━━━━\u001b[0m\u001b[37m\u001b[0m \u001b[1m79s\u001b[0m 112ms/step - accuracy: 0.7009 - loss: 0.7875 - val_accuracy: 0.6300 - val_loss: 1.0056\n",
      "Epoch 56/100\n",
      "\u001b[1m707/707\u001b[0m \u001b[32m━━━━━━━━━━━━━━━━━━━━\u001b[0m\u001b[37m\u001b[0m \u001b[1m79s\u001b[0m 111ms/step - accuracy: 0.7038 - loss: 0.7830 - val_accuracy: 0.6235 - val_loss: 1.0085\n",
      "Epoch 57/100\n",
      "\u001b[1m707/707\u001b[0m \u001b[32m━━━━━━━━━━━━━━━━━━━━\u001b[0m\u001b[37m\u001b[0m \u001b[1m87s\u001b[0m 123ms/step - accuracy: 0.7060 - loss: 0.7864 - val_accuracy: 0.6212 - val_loss: 1.0098\n"
     ]
    },
    {
     "name": "stderr",
     "output_type": "stream",
     "text": [
      "WARNING:absl:You are saving your model as an HDF5 file via `model.save()` or `keras.saving.save_model(model)`. This file format is considered legacy. We recommend using instead the native Keras format, e.g. `model.save('my_model.keras')` or `keras.saving.save_model(model, 'my_model.keras')`. \n"
     ]
    }
   ],
   "source": [
    "# 6. Train Model\n",
    "history = model.fit(\n",
    "    train_generator,\n",
    "    validation_data=validation_generator,\n",
    "    epochs=100,\n",
    "    callbacks=[checkpoint, early_stop]\n",
    ")\n",
    "# Simpan seluruh model (struktur + bobot)\n",
    "model.save(\"cnn_model_final2.h5\")\n"
   ]
  },
  {
   "cell_type": "code",
   "execution_count": 13,
   "id": "130a4059",
   "metadata": {},
   "outputs": [],
   "source": [
    "from tensorflow.keras.models import load_model"
   ]
  },
  {
   "cell_type": "code",
   "execution_count": 15,
   "id": "3226b2ef",
   "metadata": {},
   "outputs": [
    {
     "name": "stderr",
     "output_type": "stream",
     "text": [
      "WARNING:absl:Compiled the loaded model, but the compiled metrics have yet to be built. `model.compile_metrics` will be empty until you train or evaluate the model.\n"
     ]
    },
    {
     "name": "stdout",
     "output_type": "stream",
     "text": [
      "\u001b[1m221/221\u001b[0m \u001b[32m━━━━━━━━━━━━━━━━━━━━\u001b[0m\u001b[37m\u001b[0m \u001b[1m6s\u001b[0m 26ms/step - accuracy: 0.6116 - loss: 1.0310\n",
      "Test Accuracy: 0.6347813606262207\n",
      "Test Loss: 0.9841932058334351\n"
     ]
    }
   ],
   "source": [
    "\n",
    "\n",
    "model = load_model(\"cnn_model_final2.h5\")\n",
    "\n",
    "# Evaluasi model pada data test\n",
    "test_loss, test_accuracy = model.evaluate(test_generator)\n",
    "\n",
    "print(\"Test Accuracy:\", test_accuracy)\n",
    "print(\"Test Loss:\", test_loss)"
   ]
  },
  {
   "cell_type": "code",
   "execution_count": 1,
   "id": "d58614a7",
   "metadata": {},
   "outputs": [
    {
     "ename": "NameError",
     "evalue": "name 'plt' is not defined",
     "output_type": "error",
     "traceback": [
      "\u001b[1;31m---------------------------------------------------------------------------\u001b[0m",
      "\u001b[1;31mNameError\u001b[0m                                 Traceback (most recent call last)",
      "Cell \u001b[1;32mIn[1], line 2\u001b[0m\n\u001b[0;32m      1\u001b[0m \u001b[38;5;66;03m# 7. Visualisasi Akurasi\u001b[39;00m\n\u001b[1;32m----> 2\u001b[0m \u001b[43mplt\u001b[49m\u001b[38;5;241m.\u001b[39mplot(history\u001b[38;5;241m.\u001b[39mhistory[\u001b[38;5;124m'\u001b[39m\u001b[38;5;124maccuracy\u001b[39m\u001b[38;5;124m'\u001b[39m], label\u001b[38;5;241m=\u001b[39m\u001b[38;5;124m'\u001b[39m\u001b[38;5;124mTrain Accuracy\u001b[39m\u001b[38;5;124m'\u001b[39m)\n\u001b[0;32m      3\u001b[0m plt\u001b[38;5;241m.\u001b[39mplot(history\u001b[38;5;241m.\u001b[39mhistory[\u001b[38;5;124m'\u001b[39m\u001b[38;5;124mval_accuracy\u001b[39m\u001b[38;5;124m'\u001b[39m], label\u001b[38;5;241m=\u001b[39m\u001b[38;5;124m'\u001b[39m\u001b[38;5;124mValidation Accuracy\u001b[39m\u001b[38;5;124m'\u001b[39m)\n\u001b[0;32m      4\u001b[0m plt\u001b[38;5;241m.\u001b[39mtitle(\u001b[38;5;124m'\u001b[39m\u001b[38;5;124mModel Accuracy\u001b[39m\u001b[38;5;124m'\u001b[39m)\n",
      "\u001b[1;31mNameError\u001b[0m: name 'plt' is not defined"
     ]
    }
   ],
   "source": [
    "# 7. Visualisasi Akurasi\n",
    "plt.plot(history.history['accuracy'], label='Train Accuracy')\n",
    "plt.plot(history.history['val_accuracy'], label='Validation Accuracy')\n",
    "plt.title('Model Accuracy')\n",
    "plt.xlabel('Epoch')\n",
    "plt.ylabel('Accuracy')\n",
    "plt.legend()\n",
    "plt.grid(True)\n",
    "plt.show()"
   ]
  }
 ],
 "metadata": {
  "kernelspec": {
   "display_name": ".venv",
   "language": "python",
   "name": "python3"
  },
  "language_info": {
   "codemirror_mode": {
    "name": "ipython",
    "version": 3
   },
   "file_extension": ".py",
   "mimetype": "text/x-python",
   "name": "python",
   "nbconvert_exporter": "python",
   "pygments_lexer": "ipython3",
   "version": "3.10.11"
  }
 },
 "nbformat": 4,
 "nbformat_minor": 5
}
